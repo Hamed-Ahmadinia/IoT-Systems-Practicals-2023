{
 "cells": [
  {
   "cell_type": "markdown",
   "metadata": {
    "collapsed": true
   },
   "source": [
    "# BL40A2010 Introduction to IoT-Based Systems\n",
    "\n",
    "## Assignment 6, 25.9.2023\n",
    "\n",
    "### Author: Hamed Ahmadinia"
   ]
  },
  {
   "cell_type": "markdown",
   "metadata": {},
   "source": [
    "**Prisoner's dilemma** is a standard example of a game analyzed in game theory that shows why two completely rational individuals might not cooperate, even if it appears that it is in their best interests to do so. It was originally framed by Merrill Flood and Melvin Dresher while working at RAND in 1950. Albert W. Tucker formalized the game with prison sentence rewards and named it \"prisoner's dilemma\", presenting it as follows:\n",
    "\n",
    "\"Two members of a criminal gang are arrested and imprisoned. Each prisoner is in solitary confinement with no means of communicating with the other. The prosecutors lack sufficient evidence to convict the pair on the principal charge, but they have enough to convict both on a lesser charge. Simultaneously, the prosecutors offer each prisoner a bargain. Each prisoner is given the opportunity either to betray the other by testifying that the other committed the crime, or to cooperate with the other by remaining silent. The possible outcomes are:\n",
    "\n",
    "- If A and B each betray the other (not-cooperating to each other), each of them serves $z$ years in prison (payoff of $-z$)\n",
    "- If A betrays B (not-cooperating with B) but B remains silent (cooperating with A), A will serve $y$ years in prison (payoff $-y$) and B will serve $w$ years  (payoff of $-w$).\n",
    "- If B betrays A (not-cooperating with A) but A remains silent (cooperating with B), B will serve $y$ years in prison (payoff $-y$) and A will serve $w$ years  (payoff of $-w$).\n",
    "- If A and B both remain silent, both of them will serve $x$ years in prison (payoff of $-x$).\"\n",
    "\n",
    "The payoff table is presented below. \n",
    "\n",
    "|                | $B$ cooperates  | $B$ not-cooperating   |\n",
    "|----------------|:---------------:|--------------:|\n",
    "| $A$ cooperates |  $A \\rightarrow -x$   | $A\\rightarrow -w$  |\n",
    "|                |  $B\\rightarrow -x$   | $B\\rightarrow -y$  |\n",
    "|                |                 |               |\n",
    "| $A$ not-cooperating   |  $A\\rightarrow -y$   | $A\\rightarrow -z$  |\n",
    "|                |  $B\\rightarrow -w$   | $B\\rightarrow -z$  |\n",
    "\n",
    "**However, this is only a *Prisoner's Dilemma GAME* for A GIVEN RELATION between the years in prison (payoffs) as to be studied next.**\n",
    "\n",
    "ps. Text adapted from [Wikipedia](https://en.wikipedia.org/wiki/Prisoner's_dilemma)."
   ]
  },
  {
   "cell_type": "markdown",
   "metadata": {},
   "source": [
    "**(1) Consider the Prisoner's dilemma description given above.**\n",
    "\n",
    "**(a) What is the relation between the payoffs values $x\\geq 0$, $y\\geq 0$, $w\\geq 0$ and $z \\geq 0$ so that the game can be classified as [Prisoner's Dilemma](https://en.wikipedia.org/wiki/Prisoner's_dilemma)?**\n",
    "\n",
    "**(b) Verify the results (i.e., the proposed inequality) with numerical examples using [nashpy](https://nashpy.readthedocs.io/en/stable/index.html). Please provide one example when the inequality holds and one it does not (check my example for Dove and Hawyk game).**"
   ]
  },
  {
   "cell_type": "code",
   "execution_count": 20,
   "metadata": {},
   "outputs": [
    {
     "name": "stdout",
     "output_type": "stream",
     "text": [
      "Defaulting to user installation because normal site-packages is not writeable\n",
      "Requirement already satisfied: nashpy==0.0.21 in c:\\users\\hamed\\appdata\\roaming\\python\\python311\\site-packages (0.0.21)\n",
      "Requirement already satisfied: numpy>=1.12.1 in c:\\programdata\\anaconda3\\lib\\site-packages (from nashpy==0.0.21) (1.24.3)\n",
      "Requirement already satisfied: scipy>=0.19.0 in c:\\users\\hamed\\appdata\\roaming\\python\\python311\\site-packages (from nashpy==0.0.21) (1.11.2)\n"
     ]
    }
   ],
   "source": [
    "#Verification with nashpy\n",
    "#Installing a missing library\n",
    "!pip install nashpy==0.0.21"
   ]
  },
  {
   "cell_type": "code",
   "execution_count": 21,
   "metadata": {},
   "outputs": [],
   "source": [
    "import numpy as np\n",
    "import nashpy as nash"
   ]
  },
  {
   "cell_type": "markdown",
   "metadata": {},
   "source": [
    "### Example 1: (Inequality Holds)\n",
    "#### Let's consider x=1, y=0, w=3, z=2 \n",
    "#### This satisfies w>z>x>y\n",
    "\n",
    "\n",
    "|                | $B$ aggressive  | $B$ not-aggressive     |\n",
    "|----------------|:---------------:|--------------:|\n",
    "| $A$ agreessive |  $A \\rightarrow -1$   | $A \\rightarrow -3$  |\n",
    "|                |  $B \\rightarrow -1$   | $B\\rightarrow 0$  |\n",
    "|                |                 |               |\n",
    "| $A$ not-aggressive |  $A\\rightarrow 0$      | $A\\rightarrow -2$  |\n",
    "|                |  $B\\rightarrow -3$   | $B\\rightarrow -2$  |\n",
    "\n",
    "\n",
    "$$\n",
    "A =\n",
    "\\begin{pmatrix}\n",
    "    -1 & -3\\\\\n",
    "    0 & -2\n",
    "\\end{pmatrix}\\qquad\n",
    "B =\n",
    "\\begin{pmatrix}\n",
    "    -1 & 0\\\\\n",
    "    -3 & -2\n",
    "\\end{pmatrix}\n",
    "$$"
   ]
  },
  {
   "cell_type": "code",
   "execution_count": 22,
   "metadata": {},
   "outputs": [
    {
     "data": {
      "text/plain": [
       "Bi matrix game with payoff matrices:\n",
       "\n",
       "Row player:\n",
       "[[-1 -3]\n",
       " [ 0 -2]]\n",
       "\n",
       "Column player:\n",
       "[[-1  0]\n",
       " [-3 -2]]"
      ]
     },
     "execution_count": 22,
     "metadata": {},
     "output_type": "execute_result"
    }
   ],
   "source": [
    "# Example 1 (Inequality Holds)\n",
    "# Test 1: Let's consider x=1, y=0, w=3, z=2\n",
    "x = 1\n",
    "y = 0\n",
    "w = 3\n",
    "z = 2\n",
    "\n",
    "# This satisfies w>z>x>y\n",
    "\n",
    "A = np.array([[-x, -w], [-y, -z]]) \n",
    "B = np.array([[-x, -y], [-w, -z]])\n",
    "\n",
    "hawk_dove = nash.Game(A, B)\n",
    "hawk_dove"
   ]
  },
  {
   "cell_type": "code",
   "execution_count": 23,
   "metadata": {},
   "outputs": [
    {
     "data": {
      "text/plain": [
       "[(array([0., 1.]), array([0., 1.]))]"
      ]
     },
     "execution_count": 23,
     "metadata": {},
     "output_type": "execute_result"
    }
   ],
   "source": [
    "eqs = hawk_dove.support_enumeration()\n",
    "list(eqs)"
   ]
  },
  {
   "cell_type": "markdown",
   "metadata": {},
   "source": [
    "This points to a special Nash equilibrium in which the two players never agree to work together."
   ]
  },
  {
   "cell_type": "markdown",
   "metadata": {},
   "source": [
    "### Example 2: (Inequality Does Not Hold)\n",
    "#### Now consider x=1, y=2, w=3, z=0\n",
    "#### This does not satisfy w>z>x>y.\n",
    "\n",
    "\n",
    "|                | $B$ aggressive  | $B$ not-aggressive     |\n",
    "|----------------|:---------------:|--------------:|\n",
    "| $A$ agreessive |  $A \\rightarrow -1$   | $A \\rightarrow -3$  |\n",
    "|                |  $B \\rightarrow -2$   | $B\\rightarrow 0$  |\n",
    "|                |                 |               |\n",
    "| $A$ not-aggressive |  $A\\rightarrow -1$      | $A\\rightarrow -2$  |\n",
    "|                |  $B\\rightarrow -3$   | $B\\rightarrow 0$  |\n",
    "\n",
    "$$\n",
    "A =\n",
    "\\begin{pmatrix}\n",
    "    -1 & -3\\\\\n",
    "    -2 & 0\n",
    "\\end{pmatrix}\\qquad\n",
    "B =\n",
    "\\begin{pmatrix}\n",
    "    -1 & -2\\\\\n",
    "    -3 & 0\n",
    "\\end{pmatrix}\n",
    "$$"
   ]
  },
  {
   "cell_type": "code",
   "execution_count": 26,
   "metadata": {},
   "outputs": [
    {
     "data": {
      "text/plain": [
       "Bi matrix game with payoff matrices:\n",
       "\n",
       "Row player:\n",
       "[[-1 -3]\n",
       " [-2  0]]\n",
       "\n",
       "Column player:\n",
       "[[-1 -2]\n",
       " [-3  0]]"
      ]
     },
     "execution_count": 26,
     "metadata": {},
     "output_type": "execute_result"
    }
   ],
   "source": [
    "# Example 2 (Inequality Does Not Hold)\n",
    "# Test 2: Now consider x=1, y=2, w=3, z=0\n",
    "x = 1\n",
    "y = 2\n",
    "w = 3\n",
    "z = 0\n",
    "\n",
    "A = np.array([[-x, -w], [-y, -z]])  \n",
    "B = np.array([[-x, -y], [-w, -z]])  \n",
    "\n",
    "hawk_dove2 = nash.Game(A, B)\n",
    "hawk_dove2"
   ]
  },
  {
   "cell_type": "code",
   "execution_count": 27,
   "metadata": {},
   "outputs": [
    {
     "data": {
      "text/plain": [
       "[(array([1., 0.]), array([1., 0.])),\n",
       " (array([0., 1.]), array([0., 1.])),\n",
       " (array([0.75, 0.25]), array([0.75, 0.25]))]"
      ]
     },
     "execution_count": 27,
     "metadata": {},
     "output_type": "execute_result"
    }
   ],
   "source": [
    "eqs = hawk_dove2.support_enumeration()\n",
    "list(eqs)"
   ]
  },
  {
   "cell_type": "markdown",
   "metadata": {},
   "source": [
    "The output shows various possible strategies. First, both players choose to cooperate. Second, both decide not to cooperate. Third, both players mix their strategies, sometimes cooperating and sometimes not. These multiple possibilities mean the game doesn't fit the typical Prisoner’s Dilemma, which usually has one clear outcome where both players choose not to cooperate."
   ]
  },
  {
   "cell_type": "markdown",
   "metadata": {},
   "source": [
    "**(2) Justify why the game from the previous exercise is or is not a good (reasonable) model when $A$ and $B$ are:**\n",
    "\n",
    "**1. Two trained members from the army when they are in prison.**\n",
    "\n",
    "\n",
    "**2. Competitive companies in the market discussing standardization.**\n",
    "\n",
    "\n",
    "**3. Two different autonomous IoT-based home energy management algorithms that are focus on energy efficiency.**\n",
    "\n",
    "\n",
    "**4. Two different autonomous IoT-based home energy management algorithms that are focus on profit maximization.**\n",
    "\n",
    "**ps. You need to think about the assumption used in Game Theory and in the Prisoner's dilemma problem setting.**"
   ]
  },
  {
   "cell_type": "markdown",
   "metadata": {},
   "source": [
    "Answer: Prisoner's dilemma as a model\n",
    "\n",
    "**1.** Yes, Army members are trained to be loyal and cooperative with one another, which aligns with the scenario in the Prisoner’s Dilemma where cooperation could lead to a better overall outcome. However, the uncertainty and lack of communication might drive them to betray each other, fearing the other might do the same.\n",
    "\n",
    "**2.** No, In the Prisoner’s Dilemma, players cannot communicate, which is not a realistic assumption for companies discussing standardization. Companies can and do communicate, negotiate, and collaborate on standardisation, making the game not a suitable model.\n",
    "\n",
    "**3.** No, These algorithms focus on energy efficiency, not on competing interests. The Prisoner's Dilemma is built on the assumption of competing interests (to betray or not), which may not apply here. Cooperation between the two to achieve maximum energy efficiency is the likely scenario, without the risk of betrayal.\n",
    "\n",
    "**4.** Yes, In this scenario, both algorithms aim to maximise profit, creating a potential for conflict similar to the Prisoner's Dilemma. They might have to choose between cooperation for collective benefit and betrayal to outperform each other, making the game a reasonable model for this context."
   ]
  }
 ],
 "metadata": {
  "kernelspec": {
   "display_name": "Python 3 (ipykernel)",
   "language": "python",
   "name": "python3"
  },
  "language_info": {
   "codemirror_mode": {
    "name": "ipython",
    "version": 3
   },
   "file_extension": ".py",
   "mimetype": "text/x-python",
   "name": "python",
   "nbconvert_exporter": "python",
   "pygments_lexer": "ipython3",
   "version": "3.11.4"
  }
 },
 "nbformat": 4,
 "nbformat_minor": 2
}
